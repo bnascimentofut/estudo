{
 "cells": [
  {
   "cell_type": "code",
   "execution_count": null,
   "id": "26fc3cc0",
   "metadata": {},
   "outputs": [],
   "source": [
    "numero =float(input(\"Digite um número: \"))\n",
    "metade =numero/2\n",
    "\n",
    "dobro =numero*2\n",
    "triplo =numero*3\n",
    "\n",
    "antecessor =numero-1\n",
    "sucessor =numero+1\n",
    "\n",
    "\n",
    "print(f\"O número digitado foi {numero}, sua metade é {metade}, seu dobro é {dobro}, seu triplo é {triplo}, seu antecessor é {antecessor} e seu sucessor é {sucessor}\")\n",
    "\n",
    "\n",
    "\n",
    "\n",
    "print('-='*20)"
   ]
  },
  {
   "cell_type": "code",
   "execution_count": null,
   "id": "b54dc70d",
   "metadata": {},
   "outputs": [
    {
     "name": "stdout",
     "output_type": "stream",
     "text": [
      "O valor de x1 é 132.0 e o valor de x2 é -132.0\n"
     ]
    }
   ],
   "source": [
    "a = float(input('Digite o valor de a:'))\n",
    "b= float(input('Digite o valor de b:'))\n",
    "c= float(input('Digite o valor de c:'))\n",
    "\n",
    "\n",
    "delta = b**2-4*a*c\n",
    "x1 =-b * 0.5*(delta)/2*a\n",
    "x2 =+b * 0.5*(delta)/2*a\n",
    "\n",
    "print(f\"O valor de x1 é {x1} e o valor de x2 é {x2}\")\n"
   ]
  },
  {
   "cell_type": "code",
   "execution_count": 4,
   "id": "5ed59000",
   "metadata": {},
   "outputs": [
    {
     "name": "stdout",
     "output_type": "stream",
     "text": [
      "--------------------------------------------------\n",
      "Aperte 1 para calcular a fórmula de Bhaskara\n",
      "\n",
      "Aperte 2 para calcular uma soma\n",
      "\n",
      "Aperte 3 para informar seu município\n",
      "--------------------------------------------------\n",
      "\n",
      "\n",
      "--------------------------------------------------\n",
      "\n",
      "Considere que os municípios Tatuí, Cerquilho e Boituva representam 1, 2,3 respectivamente\n",
      "\n"
     ]
    },
    {
     "ename": "ValueError",
     "evalue": "invalid literal for int() with base 10: ''",
     "output_type": "error",
     "traceback": [
      "\u001b[31m---------------------------------------------------------------------------\u001b[39m",
      "\u001b[31mValueError\u001b[39m                                Traceback (most recent call last)",
      "\u001b[36mCell\u001b[39m\u001b[36m \u001b[39m\u001b[32mIn[4]\u001b[39m\u001b[32m, line 67\u001b[39m\n\u001b[32m     65\u001b[39m \u001b[38;5;28mprint\u001b[39m(\u001b[33m'\u001b[39m\u001b[33mConsidere que os municípios Tatuí, Cerquilho e Boituva representam 1, 2,3 respectivamente\u001b[39m\u001b[33m'\u001b[39m)\n\u001b[32m     66\u001b[39m \u001b[38;5;28mprint\u001b[39m(\u001b[33m'\u001b[39m\u001b[33m'\u001b[39m)\n\u001b[32m---> \u001b[39m\u001b[32m67\u001b[39m num_municipio = \u001b[38;5;28;43mint\u001b[39;49m\u001b[43m(\u001b[49m\u001b[38;5;28;43minput\u001b[39;49m\u001b[43m(\u001b[49m\u001b[33;43m'\u001b[39;49m\u001b[33;43mVocê mora em qual município?\u001b[39;49m\u001b[33;43m'\u001b[39;49m\u001b[43m)\u001b[49m\u001b[43m)\u001b[49m\n\u001b[32m     69\u001b[39m \u001b[38;5;28;01mif\u001b[39;00m num_municipio ==\u001b[32m1\u001b[39m:\n\u001b[32m     70\u001b[39m     \u001b[38;5;28mprint\u001b[39m(\u001b[33m'\u001b[39m\u001b[33mvocê escolheu Tatuí, vamos para o próximo registro\u001b[39m\u001b[33m'\u001b[39m)\n",
      "\u001b[31mValueError\u001b[39m: invalid literal for int() with base 10: ''"
     ]
    }
   ],
   "source": [
    "\n",
    "while True:\n",
    "\n",
    "    print('-'*50)\n",
    "    print('Aperte 1 para calcular a fórmula de Bhaskara')\n",
    "    print('')\n",
    "    print('Aperte 2 para calcular uma soma')\n",
    "    print('')\n",
    "    print('Aperte 3 para informar seu município')\n",
    "    print('-'*50)\n",
    "    print('')\n",
    "\n",
    "    opcao = int(input('Digite a opção desejada:'))\n",
    "\n",
    "    if opcao == 1:\n",
    "\n",
    "        print('-'*50)\n",
    "        a = float(input('Digite o valor de a:'))\n",
    "\n",
    "        print('-'*50)\n",
    "        b= float(input('Digite o valor de b:'))\n",
    "        print('')\n",
    "        c= float(input('Digite o valor de c:'))\n",
    "        print('')\n",
    "\n",
    "        delta = b**2-4*a*c\n",
    "        x1 =-b * 0.5*(delta)/2*a\n",
    "        x2 =+b * 0.5*(delta)/2*a\n",
    "\n",
    "\n",
    "        print('-'*50)\n",
    "        print(f\"O valor de x1 é {x1} e o valor de x2 é {x2}\")\n",
    "        print('')\n",
    "    elif opcao == 2:\n",
    "        print('-'*50)\n",
    "        qnt_num=int(input('Digite a quantidade de números que deseja somar:'))\n",
    "        num =1\n",
    "        lista=[]\n",
    "        while num <= qnt_num:\n",
    "            nums = float(input('Insira o número:'))\n",
    "            print('')\n",
    "            lista.append(nums)\n",
    "            soma = sum(lista)\n",
    "            print(soma, ('A soma dos números é:'))\n",
    "            num = num +1\n",
    "        print('-'*50)\n",
    "    elif opcao == 3:\n",
    "\n",
    "        cont = 0\n",
    "        Tatuí = 1\n",
    "        Cerquilho = 2\n",
    "        Boituva = 3\n",
    "\n",
    "        qdt_num_Tatuí = 0\n",
    "        qdt_num_Cerquilho = 0\n",
    "        qdt_num_Boituva = 0\n",
    "\n",
    "\n",
    "        print('')\n",
    "        print('-'*50)\n",
    "        qtd_pessoas = int (input('Quantas pessoas há nessa região:'))\n",
    "        print('')\n",
    "\n",
    "        while cont <qtd_pessoas:\n",
    "            \n",
    "            print('Considere que os municípios Tatuí, Cerquilho e Boituva representam 1, 2,3 respectivamente')\n",
    "            print('')\n",
    "            num_municipio = int(input('Você mora em qual município?'))\n",
    "\n",
    "            if num_municipio ==1:\n",
    "                print('você escolheu Tatuí, vamos para o próximo registro')\n",
    "                qdt_num_Tatuí = qdt_num_Tatuí +1\n",
    "            if num_municipio ==2:\n",
    "                print('você escolheu Cerquilho, vamos para o próximo registro')\n",
    "                qdt_num_Cerquilho = qdt_num_Cerquilho +1\n",
    "            if num_municipio ==3:\n",
    "                print('você escolheu Boituva, vamos para o próximo registro')\n",
    "                qdt_num_Boituva = qdt_num_Boituva +1\n",
    "            \n",
    "            else:\n",
    "                print('Erro, digite um número válido')\n",
    "\n",
    "            cont= cont +1\n",
    "        if cont == qtd_pessoas:\n",
    "            print('')\n",
    "            print(f'O número de moradores de Tatuí é {qdt_num_Tatuí} , em Cerquilho é {qdt_num_Cerquilho}, em Boituva é {qdt_num_Boituva}')\n",
    "            print('-'*50)\n",
    "\n"
   ]
  },
  {
   "cell_type": "code",
   "execution_count": 18,
   "id": "c9a68643",
   "metadata": {},
   "outputs": [
    {
     "name": "stdout",
     "output_type": "stream",
     "text": [
      "meu penis largo\n",
      "meu penis largo\n",
      "meu penis largo\n",
      "meu penis largo\n",
      "meu penis largo\n",
      "meu penis largo\n",
      "meu penis largo\n",
      "meu penis largo\n",
      "meu penis largo\n",
      "meu penis largo\n"
     ]
    }
   ],
   "source": [
    "wellingnton = 0\n",
    "\n",
    "while wellingnton <10:\n",
    "    print('meu penis largo')\n",
    "\n",
    "    wellingnton = wellingnton +1    "
   ]
  },
  {
   "cell_type": "code",
   "execution_count": null,
   "id": "896ca83e",
   "metadata": {},
   "outputs": [],
   "source": []
  }
 ],
 "metadata": {
  "kernelspec": {
   "display_name": "Python 3",
   "language": "python",
   "name": "python3"
  },
  "language_info": {
   "codemirror_mode": {
    "name": "ipython",
    "version": 3
   },
   "file_extension": ".py",
   "mimetype": "text/x-python",
   "name": "python",
   "nbconvert_exporter": "python",
   "pygments_lexer": "ipython3",
   "version": "3.13.5"
  }
 },
 "nbformat": 4,
 "nbformat_minor": 5
}
